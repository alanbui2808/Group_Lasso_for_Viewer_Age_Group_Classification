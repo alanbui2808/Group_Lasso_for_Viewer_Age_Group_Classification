{
 "cells": [
  {
   "cell_type": "code",
   "execution_count": 1,
   "id": "4a9240c2",
   "metadata": {},
   "outputs": [],
   "source": [
    "import numpy as np\n",
    "import matplotlib.pyplot as plt"
   ]
  },
  {
   "cell_type": "code",
   "execution_count": 29,
   "id": "f61eaef8",
   "metadata": {},
   "outputs": [],
   "source": [
    "X_train = np.loadtxt('./movies3/trainRatings.txt', comments='#', delimiter=',', unpack=False)\n",
    "y_train = np.loadtxt('./movies3/trainLabels.txt', comments='#', delimiter=',', unpack=False)\n",
    "X_test = np.loadtxt('./movies3/testRatings.txt', comments='#', delimiter=',', unpack=False)\n",
    "y_test = np.loadtxt('./movies3/testLabels.txt', comments='#', delimiter=',', unpack=False)\n",
    "group_labels = np.loadtxt('./movies3/groupLabelsPerRating.txt', comments='#', delimiter=',', unpack=False)\n",
    "group_titles = np.genfromtxt('./movies3/groupTitles.txt', dtype='str')\n",
    "data = {\n",
    "    'X_train': X_train,\n",
    "    'y_train': y_train,\n",
    "    'X_test': X_test,\n",
    "    'y_test': y_test,\n",
    "    'group_labels': group_labels,\n",
    "    'group_titles': group_titles\n",
    "}"
   ]
  },
  {
   "cell_type": "code",
   "execution_count": 31,
   "id": "f6460b40",
   "metadata": {},
   "outputs": [
    {
     "name": "stdout",
     "output_type": "stream",
     "text": [
      "X_train : (628, 833)\n",
      "y_train : (628,)\n",
      "X_test : (315, 833)\n",
      "y_test : (315,)\n",
      "group_labels : (833,)\n",
      "group_titles : (19,)\n"
     ]
    }
   ],
   "source": [
    "for key, value in data.items():\n",
    "    print('{} : {}'.format(key, value.shape))"
   ]
  },
  {
   "cell_type": "code",
   "execution_count": 34,
   "id": "be2cce1a",
   "metadata": {},
   "outputs": [
    {
     "name": "stdout",
     "output_type": "stream",
     "text": [
      "0.0 1.0 2.0 3.0 4.0 5.0 "
     ]
    }
   ],
   "source": [
    "# Ratings:\n",
    "for rating in (np.unique(X_train)):\n",
    "    print(rating, end=' ')"
   ]
  },
  {
   "cell_type": "code",
   "execution_count": 38,
   "id": "4026ad22",
   "metadata": {},
   "outputs": [
    {
     "name": "stdout",
     "output_type": "stream",
     "text": [
      "unknown Action Adventure Animation Children's Comedy Crime Documentary Drama Fantasy Film-Noir Horror Musical Mystery Romance Sci-Fi Thriller War Western 19\n"
     ]
    }
   ],
   "source": [
    "# Group Titles (aka Film Genre)\n",
    "for genre in group_titles:\n",
    "    print(genre, end=' ')"
   ]
  },
  {
   "cell_type": "code",
   "execution_count": 86,
   "id": "10568bff",
   "metadata": {},
   "outputs": [],
   "source": [
    "# Creating groups and w:\n",
    "def construct_group(group_labels, num_groups):\n",
    "    p = np.zeros(num_groups + 1).astype(int)\n",
    "    w = np.zeros(num_groups + 1)\n",
    "    i = 0 \n",
    "    group_id = 1\n",
    "    \n",
    "    while i < len(group_labels):\n",
    "        j = i\n",
    "        while j < len(group_labels) and group_labels[j] == group_labels[i]:\n",
    "            j += 1\n",
    "        \n",
    "        p[group_id] = j - i\n",
    "        w[group_id] = np.sqrt(j - i)\n",
    "        # update for next group\n",
    "        i = j\n",
    "        group_id += 1\n",
    "        \n",
    "    return p, w\n",
    "\n",
    "\n",
    "# p = {group_id: # of members} , id:0 -> 18\n"
   ]
  },
  {
   "cell_type": "code",
   "execution_count": 90,
   "id": "15478215",
   "metadata": {},
   "outputs": [
    {
     "name": "stdout",
     "output_type": "stream",
     "text": [
      "[  0   2  32   5   2   3 210  16  45 376   1   3  43   5   4  25   7  36\n",
      "   5  13]\n",
      "20\n",
      "20\n"
     ]
    }
   ],
   "source": [
    "# p, w = construct_group(group_labels, len(group_titles))\n",
    "# print(p)\n",
    "# p = np.zeros(len(group_titles) + 1).astype(int)\n",
    "# for belong in group_labels:\n",
    "#     p[int(belong)] = int(p[int(belong)] + 1)\n",
    "# print(p)\n",
    "# result = construct_group(group_labels, len(group_titles))\n",
    "# print(len(result[0]))\n",
    "# print(len(result[1]))\n",
    "    "
   ]
  },
  {
   "cell_type": "markdown",
   "id": "0230c9b3",
   "metadata": {},
   "source": [
    "## 3.3 Proximal Gradient Descent "
   ]
  },
  {
   "cell_type": "code",
   "execution_count": 174,
   "id": "dddcc4ff",
   "metadata": {},
   "outputs": [],
   "source": [
    "def prox_gd(data, ld, iters=1000, t=1e-4):\n",
    "    X, y = data['X_train'], data['y_train']\n",
    "    group_labels, group_titles = data['group_labels'], data['group_titles']\n",
    "    \n",
    "    beta = np.random.randn(X.shape[1])\n",
    "    p, w = construct_group(group_labels, len(group_titles))\n",
    "\n",
    "    beta_new = beta_old = beta\n",
    "    obj_history = []\n",
    "    differences = []\n",
    "    \n",
    "    for i in range(1, iters+1):\n",
    "        a = (np.exp(X.dot(beta_old)) / (1 + np.exp(X.dot(beta_old))))\n",
    "        b = -y\n",
    "        # Regularization for f in this iter:\n",
    "        reg = 0\n",
    "        \n",
    "        # beta_new before proximal\n",
    "        beta_new = beta_old - t*(X.T.dot(a + b))\n",
    "        \n",
    "        # b0 is the intercept term, 1 is pos of 1st group\n",
    "        cur_pos = 1 \n",
    "        \n",
    "        for j in range(1, len(p)):\n",
    "            # beta_j (new) before proximal\n",
    "            beta_j = beta_new[cur_pos:cur_pos+p[j]]\n",
    "            \n",
    "            # d = ||B_j - t*g'(B_j)||_2\n",
    "            d = np.sqrt(np.sum(np.dot(beta_j, beta_j)))\n",
    "            \n",
    "            # beta_j (new) after proximal\n",
    "            beta_new[cur_pos:cur_pos+p[j]] = max(0, 1 - t*ld*w[j] / d) * beta_j\n",
    "            \n",
    "            # regularization terms for new beta_j:\n",
    "            reg += ld*w[j]*d\n",
    "            \n",
    "            # update for starting pos of next group\n",
    "            cur_pos += p[j]\n",
    "        \n",
    "        # objective function: f = g + reg\n",
    "        f = -y.dot(X.dot(beta_new)) + np.sum(np.log(1 + np.exp(X.dot(beta_new)))) + reg\n",
    "        obj_history.append(f)\n",
    "        differences.append(np.abs(f - 336.207))\n",
    "        \n",
    "        # udpate beta for next iter:\n",
    "        beta_old = beta_new\n",
    "        \n",
    "        # |f* - fk|\n",
    "        if i == 1 or i % 1000 == 0:\n",
    "            print('Iteration: {}/1000: {}'.format(i, np.abs(f - 336.207)))\n",
    "            \n",
    "    \n",
    "    return obj_history, differences, beta_new"
   ]
  },
  {
   "cell_type": "code",
   "execution_count": 155,
   "id": "e82c4993",
   "metadata": {},
   "outputs": [
    {
     "name": "stdout",
     "output_type": "stream",
     "text": [
      "Iteration: 1/1000: 7661.088089459456\n",
      "Iteration: 50/1000: 5956.382218407245\n",
      "Iteration: 100/1000: 5215.6732624827\n",
      "Iteration: 150/1000: 4708.913686623742\n",
      "Iteration: 200/1000: 4310.210812679215\n",
      "Iteration: 250/1000: 3965.7719674531622\n",
      "Iteration: 300/1000: 3658.9210865516543\n",
      "Iteration: 350/1000: 3390.4859683834084\n",
      "Iteration: 400/1000: 3155.980949329678\n",
      "Iteration: 450/1000: 2952.0373744934072\n",
      "Iteration: 500/1000: 2772.723282624797\n",
      "Iteration: 550/1000: 2609.584413406341\n",
      "Iteration: 600/1000: 2458.6572069662448\n",
      "Iteration: 650/1000: 2316.921033888807\n",
      "Iteration: 700/1000: 2182.1016123543864\n",
      "Iteration: 750/1000: 2052.9500045633013\n",
      "Iteration: 800/1000: 1928.6948858389828\n",
      "Iteration: 850/1000: 1808.7260217450398\n",
      "Iteration: 900/1000: 1692.5741111758257\n",
      "Iteration: 950/1000: 1579.704427766534\n",
      "Iteration: 1000/1000: 1469.5843081641042\n"
     ]
    }
   ],
   "source": [
    "result_C = prox_gd(data, 5)"
   ]
  },
  {
   "cell_type": "markdown",
   "id": "6d1e7461",
   "metadata": {},
   "source": [
    "## Proximal GD using Backtracking Line Search"
   ]
  },
  {
   "cell_type": "code",
   "execution_count": 156,
   "id": "2b51af83",
   "metadata": {},
   "outputs": [],
   "source": [
    "def compute_gradient(X, y, beta):\n",
    "    a = (np.exp(X.dot(beta)) / (1 + np.exp(X.dot(beta))))\n",
    "    b = -y\n",
    "    return X.T.dot(a + b)\n",
    "\n",
    "def prox(beta, p, w, t, X, y, ld):\n",
    "    beta_new = beta - t*compute_gradient(X, y, beta)\n",
    "    \n",
    "    # b0 is the intercept term, 1 is pos of 1st group\n",
    "    cur_pos = 1 \n",
    "#     reg = 0\n",
    "    \n",
    "    for j in range(1, len(p)):\n",
    "        # beta_j (new) before proximal\n",
    "        beta_j = beta_new[cur_pos:cur_pos+p[j]]\n",
    "\n",
    "        # d = ||B_j - t*g'(B_j)||_2\n",
    "        d = np.sqrt(np.sum(np.dot(beta_j, beta_j)))\n",
    "\n",
    "        # beta_j (new) after proximal\n",
    "        beta_new[cur_pos:cur_pos+p[j]] = max(0, 1 - t*ld*w[j] / d) * beta_j\n",
    "\n",
    "#         # regularization terms for new beta_j:\n",
    "#         reg += ld*w[j]*d\n",
    "\n",
    "        # update for starting pos of next group\n",
    "        cur_pos += p[j]\n",
    "\n",
    "    return beta_new\n",
    "\n",
    "def compute_G(beta, p, w, t, X, y, ld): # Generalized gradient of f\n",
    "    prox_beta = prox(beta, p, w, t, X, y, ld)\n",
    "    return (beta-prox_beta)/t\n",
    "    \n",
    "\n",
    "def f(beta, y, X, reg):\n",
    "    return -y.dot(X.dot(beta)) + np.sum(np.log(1 + np.exp(X.dot(beta)))) + reg\n",
    "\n",
    "def prox_gd_bls(data, ld, iters=400):\n",
    "    X, y = data['X_train'], data['y_train']\n",
    "    group_labels, group_titles = data['group_labels'], data['group_titles']\n",
    "    a, b = 0.5, 0.1 \n",
    "    \n",
    "    beta = np.random.randn(X.shape[1])\n",
    "    p, w = construct_group(group_labels, len(group_titles))\n",
    "\n",
    "    beta_new = beta_old = beta\n",
    "    obj_history = []\n",
    "    differences = []\n",
    "    reg = np.sqrt(np.dot(beta, beta))\n",
    "    \n",
    "    for i in range(1, iters+1):        \n",
    "        # Choose t by BLS:\n",
    "        t = 1\n",
    "        k = 0\n",
    "        temp_beta_new = None\n",
    "        temp_f = None\n",
    "        temp_reg = 0\n",
    "        f_old = f(beta_old, y, X, reg)\n",
    "        \n",
    "        while True:\n",
    "            if k>1000: # avoid running too long\n",
    "                break\n",
    "                \n",
    "            G = compute_G(beta_old, p, w, t, X, y, ld)\n",
    "            \n",
    "            temp_beta_new = beta_old - t*G\n",
    "            temp_reg = np.sqrt(np.dot(temp_beta_new, temp_beta_new))\n",
    "            temp_f = f(temp_beta_new, y, X, temp_reg)\n",
    "            \n",
    "            if temp_f > f_old + a*t*np.dot(G,-G):\n",
    "                t *= b\n",
    "                k += 1\n",
    "            else:\n",
    "                break\n",
    "        \n",
    "        beta_new = temp_beta_new\n",
    "        reg = temp_reg\n",
    "        # objective function: f = g + reg\n",
    "        f_beta_new = temp_f\n",
    "        obj_history.append(f_beta_new)\n",
    "        differences.append(np.abs(f_beta_new - 336.207))\n",
    "        \n",
    "        # udpate beta for next iter:\n",
    "        beta_old = beta_new\n",
    "        \n",
    "        # |f* - fk|\n",
    "        if i == 1 or i % 50 == 0:\n",
    "            print('Iteration: {}/400: {}'.format(i, np.abs(f_beta_new - 336.207)))\n",
    "            \n",
    "    \n",
    "    return obj_history, differences"
   ]
  },
  {
   "cell_type": "code",
   "execution_count": 157,
   "id": "32f99c85",
   "metadata": {},
   "outputs": [
    {
     "name": "stderr",
     "output_type": "stream",
     "text": [
      "/Users/alanbui/opt/anaconda3/envs/cs690op/lib/python3.6/site-packages/ipykernel_launcher.py:37: RuntimeWarning: overflow encountered in exp\n"
     ]
    },
    {
     "name": "stdout",
     "output_type": "stream",
     "text": [
      "Iteration: 1/400: 2851.3857815543724\n",
      "Iteration: 50/400: 479.17255104356434\n",
      "Iteration: 100/400: 479.17255104353876\n",
      "Iteration: 150/400: 479.17255104353876\n",
      "Iteration: 200/400: 479.17255104353876\n",
      "Iteration: 250/400: 479.17255104353876\n",
      "Iteration: 300/400: 479.17255104353876\n",
      "Iteration: 350/400: 479.17255104353876\n",
      "Iteration: 400/400: 479.17255104353876\n"
     ]
    }
   ],
   "source": [
    "result_D = prox_gd_bls(data, 5)"
   ]
  },
  {
   "cell_type": "markdown",
   "id": "53adced4",
   "metadata": {},
   "source": [
    "### Comparing Proximal GD with Proximal GD with BLS:\n"
   ]
  },
  {
   "cell_type": "code",
   "execution_count": 172,
   "id": "a8c3b608",
   "metadata": {},
   "outputs": [
    {
     "data": {
      "text/plain": [
       "<matplotlib.legend.Legend at 0x7fad373b7390>"
      ]
     },
     "execution_count": 172,
     "metadata": {},
     "output_type": "execute_result"
    },
    {
     "data": {
      "image/png": "[encoded data removed]",
      "text/plain": [
       "<Figure size 432x288 with 1 Axes>"
      ]
     },
     "metadata": {
      "needs_background": "light"
     },
     "output_type": "display_data"
    }
   ],
   "source": [
    "plt.plot(range(1,1001,1), result_C[1], label='Proximal GD')\n",
    "plt.plot(range(1,401,1), result_D[1], label='Proximal GD with BLS')\n",
    "plt.ylim([1e2,1e4])\n",
    "plt.yscale('log')\n",
    "plt.legend()"
   ]
  },
  {
   "cell_type": "code",
   "execution_count": null,
   "id": "e1e93bda",
   "metadata": {},
   "outputs": [],
   "source": [
    "### Predicting test set"
   ]
  },
  {
   "cell_type": "code",
   "execution_count": 178,
   "id": "23fc8b8d",
   "metadata": {},
   "outputs": [
    {
     "name": "stdout",
     "output_type": "stream",
     "text": [
      "Iteration: 1/1000: 13408.054815941288\n",
      "Iteration: 1000/1000: 1528.5139814277045\n",
      "Iteration: 2000/1000: 18.30249015508423\n",
      "Iteration: 3000/1000: 5.962038004455962\n",
      "Iteration: 4000/1000: 5.676138458307435\n",
      "Iteration: 5000/1000: 5.551061350162854\n",
      "Iteration: 6000/1000: 5.480887884042602\n",
      "Iteration: 7000/1000: 5.436794836229524\n",
      "Iteration: 8000/1000: 5.4068104007387205\n",
      "Iteration: 9000/1000: 5.385207835503479\n",
      "Iteration: 10000/1000: 5.3689488514147\n"
     ]
    }
   ],
   "source": [
    "optimal_beta = prox_gd(data, 5, iters=10000)[-1]"
   ]
  },
  {
   "cell_type": "code",
   "execution_count": 185,
   "id": "ed6b8fc0",
   "metadata": {},
   "outputs": [],
   "source": [
    "# Given by professor\n",
    "y_pred = (np.exp(X_test.dot(optimal_beta))/(1+np.exp(X_test.dot(optimal_beta))) > 0.5).astype(int)\n",
    "accuracy = np.mean(y_pred==y_test)"
   ]
  },
  {
   "cell_type": "code",
   "execution_count": 191,
   "id": "d0db8e69",
   "metadata": {},
   "outputs": [
    {
     "name": "stdout",
     "output_type": "stream",
     "text": [
      "Classification Error: 22.22%\n"
     ]
    }
   ],
   "source": [
    "print('Classification Error: {:.2f}%'.format((1-accuracy)*100))"
   ]
  }
 ],
 "metadata": {
  "kernelspec": {
   "display_name": "Python 3 (ipykernel)",
   "language": "python",
   "name": "python3"
  },
  "language_info": {
   "codemirror_mode": {
    "name": "ipython",
    "version": 3
   },
   "file_extension": ".py",
   "mimetype": "text/x-python",
   "name": "python",
   "nbconvert_exporter": "python",
   "pygments_lexer": "ipython3",
   "version": "3.9.7"
  }
 },
 "nbformat": 4,
 "nbformat_minor": 5
}
